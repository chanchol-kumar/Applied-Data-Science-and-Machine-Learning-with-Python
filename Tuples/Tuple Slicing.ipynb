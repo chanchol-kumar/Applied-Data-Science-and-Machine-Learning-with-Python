{
 "cells": [
  {
   "cell_type": "code",
   "execution_count": 5,
   "id": "8453429a",
   "metadata": {},
   "outputs": [],
   "source": [
    "data = tuple(range(10))"
   ]
  },
  {
   "cell_type": "code",
   "execution_count": 6,
   "id": "ab391ad8",
   "metadata": {},
   "outputs": [
    {
     "name": "stdout",
     "output_type": "stream",
     "text": [
      "Original tuple: (0, 1, 2, 3, 4, 5, 6, 7, 8, 9)\n",
      "Slice [2:8]: (2, 3, 4, 5, 6, 7)\n",
      "Reversed: (9, 8, 7, 6, 5, 4, 3, 2, 1, 0)\n"
     ]
    }
   ],
   "source": [
    "if __name__ == '__main__':\n",
    "    print(\"Original tuple:\", data)\n",
    "    print(\"Slice [2:8]:\", data[2:8])\n",
    "    print(\"Reversed:\", data[::-1])"
   ]
  }
 ],
 "metadata": {
  "kernelspec": {
   "display_name": "pytorch",
   "language": "python",
   "name": "python3"
  },
  "language_info": {
   "codemirror_mode": {
    "name": "ipython",
    "version": 3
   },
   "file_extension": ".py",
   "mimetype": "text/x-python",
   "name": "python",
   "nbconvert_exporter": "python",
   "pygments_lexer": "ipython3",
   "version": "3.12.5"
  }
 },
 "nbformat": 4,
 "nbformat_minor": 5
}
