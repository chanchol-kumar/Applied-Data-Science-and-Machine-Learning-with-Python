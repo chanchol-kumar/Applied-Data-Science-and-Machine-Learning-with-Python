{
 "cells": [
  {
   "cell_type": "code",
   "execution_count": 9,
   "id": "047115e4",
   "metadata": {},
   "outputs": [],
   "source": [
    "import math"
   ]
  },
  {
   "cell_type": "code",
   "execution_count": 10,
   "id": "f0c946f5",
   "metadata": {},
   "outputs": [],
   "source": [
    "points = ((0,0), (3,4), (6,8))"
   ]
  },
  {
   "cell_type": "code",
   "execution_count": 11,
   "id": "571dfdf9",
   "metadata": {},
   "outputs": [],
   "source": [
    "def distance(p1, p2):\n",
    "    return math.dist(p1, p2)"
   ]
  },
  {
   "cell_type": "code",
   "execution_count": 12,
   "id": "e42f82b0",
   "metadata": {},
   "outputs": [
    {
     "name": "stdout",
     "output_type": "stream",
     "text": [
      "Points: ((0, 0), (3, 4), (6, 8))\n",
      "Distance between first and last: 10.0\n"
     ]
    }
   ],
   "source": [
    "if __name__ == '__main__':\n",
    "    print(\"Points:\", points)\n",
    "    print(\"Distance between first and last:\", distance(points[0], points[-1]))"
   ]
  }
 ],
 "metadata": {
  "kernelspec": {
   "display_name": "pytorch",
   "language": "python",
   "name": "python3"
  },
  "language_info": {
   "codemirror_mode": {
    "name": "ipython",
    "version": 3
   },
   "file_extension": ".py",
   "mimetype": "text/x-python",
   "name": "python",
   "nbconvert_exporter": "python",
   "pygments_lexer": "ipython3",
   "version": "3.12.5"
  }
 },
 "nbformat": 4,
 "nbformat_minor": 5
}
