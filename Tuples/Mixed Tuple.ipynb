{
 "cells": [
  {
   "cell_type": "code",
   "execution_count": 3,
   "id": "2d66e6bb",
   "metadata": {},
   "outputs": [],
   "source": [
    "mixed = (1, \"hello\", 3.14, False, None)"
   ]
  },
  {
   "cell_type": "code",
   "execution_count": 4,
   "id": "1f432edc",
   "metadata": {},
   "outputs": [
    {
     "name": "stdout",
     "output_type": "stream",
     "text": [
      "1 is of type int\n",
      "'hello' is of type str\n",
      "3.14 is of type float\n",
      "False is of type bool\n",
      "None is of type NoneType\n"
     ]
    }
   ],
   "source": [
    "if __name__ == '__main__':\n",
    "    for item in mixed:\n",
    "        print(f\"{item!r} is of type {type(item).__name__}\")"
   ]
  }
 ],
 "metadata": {
  "kernelspec": {
   "display_name": "pytorch",
   "language": "python",
   "name": "python3"
  },
  "language_info": {
   "codemirror_mode": {
    "name": "ipython",
    "version": 3
   },
   "file_extension": ".py",
   "mimetype": "text/x-python",
   "name": "python",
   "nbconvert_exporter": "python",
   "pygments_lexer": "ipython3",
   "version": "3.12.5"
  }
 },
 "nbformat": 4,
 "nbformat_minor": 5
}
