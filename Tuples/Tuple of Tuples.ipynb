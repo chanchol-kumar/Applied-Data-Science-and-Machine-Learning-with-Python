{
 "cells": [
  {
   "cell_type": "code",
   "execution_count": 1,
   "id": "9c449c5d",
   "metadata": {},
   "outputs": [],
   "source": [
    "records = ((\"id\", \"name\"), (1, \"Alice\"), (2, \"Bob\"), (3, \"Charlie\"))"
   ]
  },
  {
   "cell_type": "code",
   "execution_count": 2,
   "id": "05873be8",
   "metadata": {},
   "outputs": [
    {
     "name": "stdout",
     "output_type": "stream",
     "text": [
      "Headers: ('id', 'name')\n",
      "Data rows:\n",
      "{'id': 1, 'name': 'Alice'}\n",
      "{'id': 2, 'name': 'Bob'}\n",
      "{'id': 3, 'name': 'Charlie'}\n"
     ]
    }
   ],
   "source": [
    "if __name__ == '__main__':\n",
    "    headers = records[0]\n",
    "    data = records[1:]\n",
    "    print(\"Headers:\", headers)\n",
    "    print(\"Data rows:\")\n",
    "    for row in data:\n",
    "        print(dict(zip(headers, row)))"
   ]
  }
 ],
 "metadata": {
  "kernelspec": {
   "display_name": "pytorch",
   "language": "python",
   "name": "python3"
  },
  "language_info": {
   "codemirror_mode": {
    "name": "ipython",
    "version": 3
   },
   "file_extension": ".py",
   "mimetype": "text/x-python",
   "name": "python",
   "nbconvert_exporter": "python",
   "pygments_lexer": "ipython3",
   "version": "3.12.5"
  }
 },
 "nbformat": 4,
 "nbformat_minor": 5
}
