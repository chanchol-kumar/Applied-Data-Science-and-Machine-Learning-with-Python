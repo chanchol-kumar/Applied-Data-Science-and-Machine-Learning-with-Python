{
 "cells": [
  {
   "cell_type": "code",
   "execution_count": 1,
   "id": "b2e8bec4",
   "metadata": {},
   "outputs": [],
   "source": [
    "nested = ((1, 2), (3, 4, 5), (\"a\", \"b\"))"
   ]
  },
  {
   "cell_type": "code",
   "execution_count": 2,
   "id": "87698ff6",
   "metadata": {},
   "outputs": [],
   "source": [
    "def flatten_tuple(t):\n",
    "    out = []\n",
    "    for item in t:\n",
    "        if isinstance(item, tuple):\n",
    "            out.extend(flatten_tuple(item))\n",
    "        else:\n",
    "            out.append(item)\n",
    "    return tuple(out)"
   ]
  },
  {
   "cell_type": "code",
   "execution_count": 3,
   "id": "9116183f",
   "metadata": {},
   "outputs": [
    {
     "name": "stdout",
     "output_type": "stream",
     "text": [
      "Nested tuple: ((1, 2), (3, 4, 5), ('a', 'b'))\n",
      "Flattened tuple: (1, 2, 3, 4, 5, 'a', 'b')\n"
     ]
    }
   ],
   "source": [
    "if __name__ == '__main__':\n",
    "    print(\"Nested tuple:\", nested)\n",
    "    print(\"Flattened tuple:\", flatten_tuple(nested))"
   ]
  }
 ],
 "metadata": {
  "kernelspec": {
   "display_name": "pytorch",
   "language": "python",
   "name": "python3"
  },
  "language_info": {
   "codemirror_mode": {
    "name": "ipython",
    "version": 3
   },
   "file_extension": ".py",
   "mimetype": "text/x-python",
   "name": "python",
   "nbconvert_exporter": "python",
   "pygments_lexer": "ipython3",
   "version": "3.12.5"
  }
 },
 "nbformat": 4,
 "nbformat_minor": 5
}
