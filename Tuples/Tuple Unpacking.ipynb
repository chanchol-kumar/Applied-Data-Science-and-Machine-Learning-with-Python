{
 "cells": [
  {
   "cell_type": "code",
   "execution_count": 4,
   "id": "8eb3afc1",
   "metadata": {},
   "outputs": [],
   "source": [
    "person = (\"Alice\", 25, \"Engineer\")"
   ]
  },
  {
   "cell_type": "code",
   "execution_count": 5,
   "id": "43757893",
   "metadata": {},
   "outputs": [],
   "source": [
    "name, age, profession = person"
   ]
  },
  {
   "cell_type": "code",
   "execution_count": 6,
   "id": "40dd0e40",
   "metadata": {},
   "outputs": [
    {
     "name": "stdout",
     "output_type": "stream",
     "text": [
      "Name: Alice, Age: 25, Profession: Engineer\n"
     ]
    }
   ],
   "source": [
    "if __name__ == '__main__':\n",
    "    print(f\"Name: {name}, Age: {age}, Profession: {profession}\")"
   ]
  }
 ],
 "metadata": {
  "kernelspec": {
   "display_name": "pytorch",
   "language": "python",
   "name": "python3"
  },
  "language_info": {
   "codemirror_mode": {
    "name": "ipython",
    "version": 3
   },
   "file_extension": ".py",
   "mimetype": "text/x-python",
   "name": "python",
   "nbconvert_exporter": "python",
   "pygments_lexer": "ipython3",
   "version": "3.12.5"
  }
 },
 "nbformat": 4,
 "nbformat_minor": 5
}
