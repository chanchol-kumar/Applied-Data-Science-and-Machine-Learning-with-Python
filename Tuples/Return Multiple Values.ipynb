{
 "cells": [
  {
   "cell_type": "code",
   "execution_count": 1,
   "id": "8914cdee",
   "metadata": {},
   "outputs": [],
   "source": [
    "def min_max_sum(values):\n",
    "    return (min(values), max(values), sum(values))"
   ]
  },
  {
   "cell_type": "code",
   "execution_count": 2,
   "id": "aa2b7655",
   "metadata": {},
   "outputs": [
    {
     "name": "stdout",
     "output_type": "stream",
     "text": [
      "Min: 5, Max: 20, Sum: 50\n"
     ]
    }
   ],
   "source": [
    "if __name__ == '__main__':\n",
    "    nums = (5, 10, 15, 20)\n",
    "    mn, mx, total = min_max_sum(nums)\n",
    "    print(f\"Min: {mn}, Max: {mx}, Sum: {total}\")"
   ]
  }
 ],
 "metadata": {
  "kernelspec": {
   "display_name": "pytorch",
   "language": "python",
   "name": "python3"
  },
  "language_info": {
   "codemirror_mode": {
    "name": "ipython",
    "version": 3
   },
   "file_extension": ".py",
   "mimetype": "text/x-python",
   "name": "python",
   "nbconvert_exporter": "python",
   "pygments_lexer": "ipython3",
   "version": "3.12.5"
  }
 },
 "nbformat": 4,
 "nbformat_minor": 5
}
