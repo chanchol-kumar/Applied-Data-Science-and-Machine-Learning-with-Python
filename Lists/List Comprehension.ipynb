{
 "cells": [
  {
   "cell_type": "code",
   "execution_count": 1,
   "id": "4a72cedd",
   "metadata": {},
   "outputs": [],
   "source": [
    "squares = [x*x for x in range(10)]\n",
    "evens_times_two = [x*2 for x in range(20) if x % 2 == 0]"
   ]
  },
  {
   "cell_type": "code",
   "execution_count": 2,
   "id": "0a37ef73",
   "metadata": {},
   "outputs": [
    {
     "name": "stdout",
     "output_type": "stream",
     "text": [
      "Squares: [0, 1, 4, 9, 16, 25, 36, 49, 64, 81]\n",
      "Evens times two: [0, 4, 8, 12, 16, 20, 24, 28, 32, 36]\n"
     ]
    }
   ],
   "source": [
    "if __name__ == '__main__':\n",
    "    print(\"Squares:\", squares)\n",
    "    print(\"Evens times two:\", evens_times_two)"
   ]
  }
 ],
 "metadata": {
  "kernelspec": {
   "display_name": "pytorch",
   "language": "python",
   "name": "python3"
  },
  "language_info": {
   "codemirror_mode": {
    "name": "ipython",
    "version": 3
   },
   "file_extension": ".py",
   "mimetype": "text/x-python",
   "name": "python",
   "nbconvert_exporter": "python",
   "pygments_lexer": "ipython3",
   "version": "3.12.5"
  }
 },
 "nbformat": 4,
 "nbformat_minor": 5
}
