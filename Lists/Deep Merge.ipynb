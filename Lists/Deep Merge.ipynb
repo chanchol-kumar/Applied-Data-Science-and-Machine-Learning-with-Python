{
 "cells": [
  {
   "cell_type": "code",
   "execution_count": 1,
   "id": "003db29d",
   "metadata": {},
   "outputs": [],
   "source": [
    "list_a = [{\"id\":1, \"tags\":[\"a\",\"b\"], \"count\":2}, {\"id\":2, \"tags\":[\"c\"], \"count\":1}]\n",
    "list_b = [{\"id\":1, \"tags\":[\"d\"], \"count\":3}, {\"id\":3, \"tags\":[\"e\"], \"count\":4}]"
   ]
  },
  {
   "cell_type": "code",
   "execution_count": 2,
   "id": "45cd4d8f",
   "metadata": {},
   "outputs": [],
   "source": [
    "def deep_merge_by_id(a, b):\n",
    "    merged = {}\n",
    "    for d in a + b:\n",
    "        _id = d.get(\"id\")\n",
    "        if _id not in merged:\n",
    "            merged[_id] = {**d}\n",
    "            # ensure tags exist\n",
    "            merged[_id].setdefault(\"tags\", list(merged[_id].get(\"tags\", [])))\n",
    "        else:\n",
    "            # merge tags\n",
    "            merged[_id][\"tags\"] = merged[_id].get(\"tags\", []) + d.get(\"tags\", [])\n",
    "            # sum counts if present\n",
    "            if \"count\" in d or \"count\" in merged[_id]:\n",
    "                merged[_id][\"count\"] = merged[_id].get(\"count\", 0) + d.get(\"count\", 0)\n",
    "    return list(merged.values())"
   ]
  },
  {
   "cell_type": "code",
   "execution_count": 3,
   "id": "7d7ca526",
   "metadata": {},
   "outputs": [
    {
     "name": "stdout",
     "output_type": "stream",
     "text": [
      "List A: [{'id': 1, 'tags': ['a', 'b'], 'count': 2}, {'id': 2, 'tags': ['c'], 'count': 1}]\n",
      "List B: [{'id': 1, 'tags': ['d'], 'count': 3}, {'id': 3, 'tags': ['e'], 'count': 4}]\n",
      "Merged: [{'id': 1, 'tags': ['a', 'b', 'd'], 'count': 5}, {'id': 2, 'tags': ['c'], 'count': 1}, {'id': 3, 'tags': ['e'], 'count': 4}]\n"
     ]
    }
   ],
   "source": [
    "if __name__ == '__main__':\n",
    "    print(\"List A:\", list_a)\n",
    "    print(\"List B:\", list_b)\n",
    "    print(\"Merged:\", deep_merge_by_id(list_a, list_b))"
   ]
  }
 ],
 "metadata": {
  "kernelspec": {
   "display_name": "pytorch",
   "language": "python",
   "name": "python3"
  },
  "language_info": {
   "codemirror_mode": {
    "name": "ipython",
    "version": 3
   },
   "file_extension": ".py",
   "mimetype": "text/x-python",
   "name": "python",
   "nbconvert_exporter": "python",
   "pygments_lexer": "ipython3",
   "version": "3.12.5"
  }
 },
 "nbformat": 4,
 "nbformat_minor": 5
}
