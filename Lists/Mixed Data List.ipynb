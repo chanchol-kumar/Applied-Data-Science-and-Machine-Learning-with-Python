{
 "cells": [
  {
   "cell_type": "code",
   "execution_count": 1,
   "id": "2b312c0e",
   "metadata": {},
   "outputs": [],
   "source": [
    "mixed_list = [42, \"hello\", 3.14, True, None]"
   ]
  },
  {
   "cell_type": "code",
   "execution_count": 2,
   "id": "1af4fac2",
   "metadata": {},
   "outputs": [],
   "source": [
    "def describe_list(lst):\n",
    "    return [(type(x).__name__, x) for x in lst]"
   ]
  },
  {
   "cell_type": "code",
   "execution_count": 3,
   "id": "80519e17",
   "metadata": {},
   "outputs": [
    {
     "name": "stdout",
     "output_type": "stream",
     "text": [
      "Mixed list description: [('int', 42), ('str', 'hello'), ('float', 3.14), ('bool', True), ('NoneType', None)]\n"
     ]
    }
   ],
   "source": [
    "if __name__ == '__main__':\n",
    "    print(\"Mixed list description:\", describe_list(mixed_list))"
   ]
  }
 ],
 "metadata": {
  "kernelspec": {
   "display_name": "pytorch",
   "language": "python",
   "name": "python3"
  },
  "language_info": {
   "codemirror_mode": {
    "name": "ipython",
    "version": 3
   },
   "file_extension": ".py",
   "mimetype": "text/x-python",
   "name": "python",
   "nbconvert_exporter": "python",
   "pygments_lexer": "ipython3",
   "version": "3.12.5"
  }
 },
 "nbformat": 4,
 "nbformat_minor": 5
}
