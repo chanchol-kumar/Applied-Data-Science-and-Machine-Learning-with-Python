{
 "cells": [
  {
   "cell_type": "code",
   "execution_count": 1,
   "id": "8494ee5b",
   "metadata": {},
   "outputs": [],
   "source": [
    "def flatten_iterable(it):\n",
    "    out = []\n",
    "    for x in it:\n",
    "        if isinstance(x, (list, tuple)):\n",
    "            out.extend(flatten_iterable(x))\n",
    "        else:\n",
    "            out.append(x)\n",
    "    return out"
   ]
  },
  {
   "cell_type": "code",
   "execution_count": 2,
   "id": "ce746125",
   "metadata": {},
   "outputs": [],
   "source": [
    "example = [1, (2, 3), [4, [5, 6], (7,)], 8]"
   ]
  },
  {
   "cell_type": "code",
   "execution_count": 3,
   "id": "80583e48",
   "metadata": {},
   "outputs": [
    {
     "name": "stdout",
     "output_type": "stream",
     "text": [
      "Example: [1, (2, 3), [4, [5, 6], (7,)], 8]\n",
      "Flattened: [1, 2, 3, 4, 5, 6, 7, 8]\n"
     ]
    }
   ],
   "source": [
    "if __name__ == '__main__':\n",
    "    print(\"Example:\", example)\n",
    "    print(\"Flattened:\", flatten_iterable(example))"
   ]
  }
 ],
 "metadata": {
  "kernelspec": {
   "display_name": "pytorch",
   "language": "python",
   "name": "python3"
  },
  "language_info": {
   "codemirror_mode": {
    "name": "ipython",
    "version": 3
   },
   "file_extension": ".py",
   "mimetype": "text/x-python",
   "name": "python",
   "nbconvert_exporter": "python",
   "pygments_lexer": "ipython3",
   "version": "3.12.5"
  }
 },
 "nbformat": 4,
 "nbformat_minor": 5
}
