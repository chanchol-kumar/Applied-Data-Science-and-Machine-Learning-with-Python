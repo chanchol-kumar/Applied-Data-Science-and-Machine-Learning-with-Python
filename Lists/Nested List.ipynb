{
 "cells": [
  {
   "cell_type": "code",
   "execution_count": 1,
   "id": "0730b8a0",
   "metadata": {},
   "outputs": [],
   "source": [
    "nested_list = [1, [2, [3, 4], 5], [\"a\", [\"b\", \"c\"]]]"
   ]
  },
  {
   "cell_type": "code",
   "execution_count": 3,
   "id": "e6690b11",
   "metadata": {},
   "outputs": [],
   "source": [
    "def flatten(lst):\n",
    "    out = []\n",
    "    for item in lst:\n",
    "        if isinstance(item, list):\n",
    "            out.extend(flatten(item))\n",
    "        else:\n",
    "            out.append(item)\n",
    "    return out"
   ]
  },
  {
   "cell_type": "code",
   "execution_count": 4,
   "id": "4ec160d9",
   "metadata": {},
   "outputs": [
    {
     "name": "stdout",
     "output_type": "stream",
     "text": [
      "Nested: [1, [2, [3, 4], 5], ['a', ['b', 'c']]]\n",
      "Flattened: [1, 2, 3, 4, 5, 'a', 'b', 'c']\n"
     ]
    }
   ],
   "source": [
    "if __name__ == '__main__':\n",
    "    print(\"Nested:\", nested_list)\n",
    "    print(\"Flattened:\", flatten(nested_list))"
   ]
  }
 ],
 "metadata": {
  "kernelspec": {
   "display_name": "pytorch",
   "language": "python",
   "name": "python3"
  },
  "language_info": {
   "codemirror_mode": {
    "name": "ipython",
    "version": 3
   },
   "file_extension": ".py",
   "mimetype": "text/x-python",
   "name": "python",
   "nbconvert_exporter": "python",
   "pygments_lexer": "ipython3",
   "version": "3.12.5"
  }
 },
 "nbformat": 4,
 "nbformat_minor": 5
}
